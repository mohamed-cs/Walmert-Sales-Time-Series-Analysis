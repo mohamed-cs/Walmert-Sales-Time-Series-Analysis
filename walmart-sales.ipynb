{
 "cells": [
  {
   "cell_type": "markdown",
   "id": "548d09c8",
   "metadata": {},
   "source": [
    "The file has information about the Weekly Sales of 45 stores for the year 2010-2012 including the factors affectors affecting Sales such as Holidays, Temperature, Fuel Price, CPI, and Unemployment.\n",
    "\n",
    "Within the Dataset file, following fields are present:\n",
    "1. Store - the store number\n",
    "2. Date - the week of sales\n",
    "3. Weekly_Sales - sales for the given store\n",
    "4. Holiday_Flag - whether the week is a holiday week 1 – Holiday week 0 – Non-holiday week\n",
    "5. Temperature - Temperature on the day of sale\n",
    "6. Fuel_Price - Cost of fuel in the region\n",
    "7. CPI – Prevailing consumer price index\n",
    "8. Unemployment - Prevailing unemployment rate\n",
    "\n",
    "Holiday Events in the Week\n",
    "1. Super Bowl: 12-Feb-10, 11-Feb-11, 10-Feb-12\n",
    "2. Labour Day: 10-Sep-10, 9-Sep-11, 7-Sep-12\n",
    "3. Thanksgiving: 26-Nov-10, 25-Nov-11, 23-Nov-12\n",
    "4. Christmas: 31-Dec-10, 30-Dec-11, 28-Dec-12"
   ]
  },
  {
   "cell_type": "markdown",
   "id": "04ed9f99",
   "metadata": {},
   "source": [
    "# Our Goal \n",
    "**1:Data Wrangling<br> 2: Explore the Data <br> 3: Check if stationay<br>4: Decomposition<br>5: Correlation & Autocorrelation<br>6:Predict Weekly Sales for Stores**\n"
   ]
  },
  {
   "cell_type": "markdown",
   "id": "2d20ad8e",
   "metadata": {},
   "source": [
    "# Import Libraries"
   ]
  },
  {
   "cell_type": "code",
   "execution_count": 2,
   "id": "243fa2be",
   "metadata": {},
   "outputs": [],
   "source": [
    "import pandas as pd \n",
    "import numpy as np \n",
    "import matplotlib.pyplot as plt \n",
    "import seaborn as sns "
   ]
  },
  {
   "cell_type": "markdown",
   "id": "17531a16",
   "metadata": {},
   "source": [
    "# Read Data"
   ]
  },
  {
   "cell_type": "code",
   "execution_count": 49,
   "id": "b03870a3",
   "metadata": {},
   "outputs": [],
   "source": [
    "data=pd.read_csv('walmart-sales-dataset-of-45stores.csv')"
   ]
  },
  {
   "cell_type": "code",
   "execution_count": 8,
   "id": "389fb963",
   "metadata": {
    "scrolled": true
   },
   "outputs": [
    {
     "data": {
      "text/plain": [
       "(6435, 8)"
      ]
     },
     "execution_count": 8,
     "metadata": {},
     "output_type": "execute_result"
    }
   ],
   "source": [
    "data.shape"
   ]
  },
  {
   "cell_type": "markdown",
   "id": "a40708a2",
   "metadata": {},
   "source": [
    "# We noticed here that there are no columns contain null values "
   ]
  },
  {
   "cell_type": "code",
   "execution_count": 9,
   "id": "0c59c476",
   "metadata": {},
   "outputs": [
    {
     "name": "stdout",
     "output_type": "stream",
     "text": [
      "<class 'pandas.core.frame.DataFrame'>\n",
      "RangeIndex: 6435 entries, 0 to 6434\n",
      "Data columns (total 8 columns):\n",
      " #   Column        Non-Null Count  Dtype  \n",
      "---  ------        --------------  -----  \n",
      " 0   Store         6435 non-null   int64  \n",
      " 1   Date          6435 non-null   object \n",
      " 2   Weekly_Sales  6435 non-null   float64\n",
      " 3   Holiday_Flag  6435 non-null   int64  \n",
      " 4   Temperature   6435 non-null   float64\n",
      " 5   Fuel_Price    6435 non-null   float64\n",
      " 6   CPI           6435 non-null   float64\n",
      " 7   Unemployment  6435 non-null   float64\n",
      "dtypes: float64(5), int64(2), object(1)\n",
      "memory usage: 402.3+ KB\n"
     ]
    }
   ],
   "source": [
    "data.info()"
   ]
  },
  {
   "cell_type": "code",
   "execution_count": 13,
   "id": "db876818",
   "metadata": {
    "scrolled": true
   },
   "outputs": [
    {
     "data": {
      "text/html": [
       "<div>\n",
       "<style scoped>\n",
       "    .dataframe tbody tr th:only-of-type {\n",
       "        vertical-align: middle;\n",
       "    }\n",
       "\n",
       "    .dataframe tbody tr th {\n",
       "        vertical-align: top;\n",
       "    }\n",
       "\n",
       "    .dataframe thead th {\n",
       "        text-align: right;\n",
       "    }\n",
       "</style>\n",
       "<table border=\"1\" class=\"dataframe\">\n",
       "  <thead>\n",
       "    <tr style=\"text-align: right;\">\n",
       "      <th></th>\n",
       "      <th>Store</th>\n",
       "      <th>Date</th>\n",
       "      <th>Weekly_Sales</th>\n",
       "      <th>Holiday_Flag</th>\n",
       "      <th>Temperature</th>\n",
       "      <th>Fuel_Price</th>\n",
       "      <th>CPI</th>\n",
       "      <th>Unemployment</th>\n",
       "    </tr>\n",
       "  </thead>\n",
       "  <tbody>\n",
       "    <tr>\n",
       "      <th>0</th>\n",
       "      <td>1</td>\n",
       "      <td>5/2/2010</td>\n",
       "      <td>1643690.90</td>\n",
       "      <td>0</td>\n",
       "      <td>42.31</td>\n",
       "      <td>2.572</td>\n",
       "      <td>211.096358</td>\n",
       "      <td>8.106</td>\n",
       "    </tr>\n",
       "    <tr>\n",
       "      <th>1</th>\n",
       "      <td>1</td>\n",
       "      <td>12/2/2010</td>\n",
       "      <td>1641957.44</td>\n",
       "      <td>1</td>\n",
       "      <td>38.51</td>\n",
       "      <td>2.548</td>\n",
       "      <td>211.242170</td>\n",
       "      <td>8.106</td>\n",
       "    </tr>\n",
       "    <tr>\n",
       "      <th>2</th>\n",
       "      <td>1</td>\n",
       "      <td>19-02-2010</td>\n",
       "      <td>1611968.17</td>\n",
       "      <td>0</td>\n",
       "      <td>39.93</td>\n",
       "      <td>2.514</td>\n",
       "      <td>211.289143</td>\n",
       "      <td>8.106</td>\n",
       "    </tr>\n",
       "    <tr>\n",
       "      <th>3</th>\n",
       "      <td>1</td>\n",
       "      <td>26-02-2010</td>\n",
       "      <td>1409727.59</td>\n",
       "      <td>0</td>\n",
       "      <td>46.63</td>\n",
       "      <td>2.561</td>\n",
       "      <td>211.319643</td>\n",
       "      <td>8.106</td>\n",
       "    </tr>\n",
       "    <tr>\n",
       "      <th>4</th>\n",
       "      <td>1</td>\n",
       "      <td>5/3/2010</td>\n",
       "      <td>1554806.68</td>\n",
       "      <td>0</td>\n",
       "      <td>46.50</td>\n",
       "      <td>2.625</td>\n",
       "      <td>211.350143</td>\n",
       "      <td>8.106</td>\n",
       "    </tr>\n",
       "  </tbody>\n",
       "</table>\n",
       "</div>"
      ],
      "text/plain": [
       "   Store        Date  Weekly_Sales  Holiday_Flag  Temperature  Fuel_Price  \\\n",
       "0      1    5/2/2010    1643690.90             0        42.31       2.572   \n",
       "1      1   12/2/2010    1641957.44             1        38.51       2.548   \n",
       "2      1  19-02-2010    1611968.17             0        39.93       2.514   \n",
       "3      1  26-02-2010    1409727.59             0        46.63       2.561   \n",
       "4      1    5/3/2010    1554806.68             0        46.50       2.625   \n",
       "\n",
       "          CPI  Unemployment  \n",
       "0  211.096358         8.106  \n",
       "1  211.242170         8.106  \n",
       "2  211.289143         8.106  \n",
       "3  211.319643         8.106  \n",
       "4  211.350143         8.106  "
      ]
     },
     "execution_count": 13,
     "metadata": {},
     "output_type": "execute_result"
    }
   ],
   "source": [
    "data.head(5)"
   ]
  },
  {
   "cell_type": "code",
   "execution_count": 30,
   "id": "8fc199cb",
   "metadata": {
    "scrolled": false
   },
   "outputs": [
    {
     "data": {
      "text/html": [
       "<div>\n",
       "<style scoped>\n",
       "    .dataframe tbody tr th:only-of-type {\n",
       "        vertical-align: middle;\n",
       "    }\n",
       "\n",
       "    .dataframe tbody tr th {\n",
       "        vertical-align: top;\n",
       "    }\n",
       "\n",
       "    .dataframe thead th {\n",
       "        text-align: right;\n",
       "    }\n",
       "</style>\n",
       "<table border=\"1\" class=\"dataframe\">\n",
       "  <thead>\n",
       "    <tr style=\"text-align: right;\">\n",
       "      <th></th>\n",
       "      <th>Store</th>\n",
       "      <th>Date</th>\n",
       "      <th>Weekly_Sales</th>\n",
       "      <th>Holiday_Flag</th>\n",
       "      <th>Temperature</th>\n",
       "      <th>Fuel_Price</th>\n",
       "      <th>CPI</th>\n",
       "      <th>Unemployment</th>\n",
       "    </tr>\n",
       "  </thead>\n",
       "  <tbody>\n",
       "    <tr>\n",
       "      <th>6430</th>\n",
       "      <td>45</td>\n",
       "      <td>28-09-2012</td>\n",
       "      <td>713173.95</td>\n",
       "      <td>0</td>\n",
       "      <td>64.88</td>\n",
       "      <td>3.997</td>\n",
       "      <td>192.013558</td>\n",
       "      <td>8.684</td>\n",
       "    </tr>\n",
       "    <tr>\n",
       "      <th>6431</th>\n",
       "      <td>45</td>\n",
       "      <td>5/10/2012</td>\n",
       "      <td>733455.07</td>\n",
       "      <td>0</td>\n",
       "      <td>64.89</td>\n",
       "      <td>3.985</td>\n",
       "      <td>192.170412</td>\n",
       "      <td>8.667</td>\n",
       "    </tr>\n",
       "    <tr>\n",
       "      <th>6432</th>\n",
       "      <td>45</td>\n",
       "      <td>12/10/2012</td>\n",
       "      <td>734464.36</td>\n",
       "      <td>0</td>\n",
       "      <td>54.47</td>\n",
       "      <td>4.000</td>\n",
       "      <td>192.327265</td>\n",
       "      <td>8.667</td>\n",
       "    </tr>\n",
       "    <tr>\n",
       "      <th>6433</th>\n",
       "      <td>45</td>\n",
       "      <td>19-10-2012</td>\n",
       "      <td>718125.53</td>\n",
       "      <td>0</td>\n",
       "      <td>56.47</td>\n",
       "      <td>3.969</td>\n",
       "      <td>192.330854</td>\n",
       "      <td>8.667</td>\n",
       "    </tr>\n",
       "    <tr>\n",
       "      <th>6434</th>\n",
       "      <td>45</td>\n",
       "      <td>26-10-2012</td>\n",
       "      <td>760281.43</td>\n",
       "      <td>0</td>\n",
       "      <td>58.85</td>\n",
       "      <td>3.882</td>\n",
       "      <td>192.308899</td>\n",
       "      <td>8.667</td>\n",
       "    </tr>\n",
       "  </tbody>\n",
       "</table>\n",
       "</div>"
      ],
      "text/plain": [
       "      Store        Date  Weekly_Sales  Holiday_Flag  Temperature  Fuel_Price  \\\n",
       "6430     45  28-09-2012     713173.95             0        64.88       3.997   \n",
       "6431     45   5/10/2012     733455.07             0        64.89       3.985   \n",
       "6432     45  12/10/2012     734464.36             0        54.47       4.000   \n",
       "6433     45  19-10-2012     718125.53             0        56.47       3.969   \n",
       "6434     45  26-10-2012     760281.43             0        58.85       3.882   \n",
       "\n",
       "             CPI  Unemployment  \n",
       "6430  192.013558         8.684  \n",
       "6431  192.170412         8.667  \n",
       "6432  192.327265         8.667  \n",
       "6433  192.330854         8.667  \n",
       "6434  192.308899         8.667  "
      ]
     },
     "execution_count": 30,
     "metadata": {},
     "output_type": "execute_result"
    }
   ],
   "source": [
    "data.tail(5)"
   ]
  },
  {
   "cell_type": "markdown",
   "id": "b0da6776",
   "metadata": {},
   "source": [
    "# How Many record Per every Store ? \n",
    "# is data balanced for stores ? "
   ]
  },
  {
   "cell_type": "code",
   "execution_count": 192,
   "id": "79c25215",
   "metadata": {},
   "outputs": [
    {
     "data": {
      "image/png": "[encoded data removed]",
      "text/plain": [
       "<Figure size 720x504 with 1 Axes>"
      ]
     },
     "metadata": {
      "needs_background": "light"
     },
     "output_type": "display_data"
    }
   ],
   "source": [
    "plt.figure(figsize =(10, 7))\n",
    "data['Store'].value_counts().plot(kind='line')\n",
    "plt.title('Percentage of Records Per Every Store')\n",
    "plt.show()"
   ]
  },
  {
   "cell_type": "markdown",
   "id": "5690cd55",
   "metadata": {},
   "source": [
    "# DataFrame reconigized on data as object and data has many format"
   ]
  },
  {
   "cell_type": "code",
   "execution_count": 52,
   "id": "2e820ea0",
   "metadata": {
    "scrolled": true
   },
   "outputs": [],
   "source": [
    "data['Date']=pd.to_datetime(data['Date'],dayfirst=True)"
   ]
  },
  {
   "cell_type": "code",
   "execution_count": 55,
   "id": "5494e392",
   "metadata": {},
   "outputs": [
    {
     "name": "stdout",
     "output_type": "stream",
     "text": [
      "<class 'pandas.core.frame.DataFrame'>\n",
      "RangeIndex: 6435 entries, 0 to 6434\n",
      "Data columns (total 8 columns):\n",
      " #   Column        Non-Null Count  Dtype         \n",
      "---  ------        --------------  -----         \n",
      " 0   Store         6435 non-null   int64         \n",
      " 1   Date          6435 non-null   datetime64[ns]\n",
      " 2   Weekly_Sales  6435 non-null   float64       \n",
      " 3   Holiday_Flag  6435 non-null   int64         \n",
      " 4   Temperature   6435 non-null   float64       \n",
      " 5   Fuel_Price    6435 non-null   float64       \n",
      " 6   CPI           6435 non-null   float64       \n",
      " 7   Unemployment  6435 non-null   float64       \n",
      "dtypes: datetime64[ns](1), float64(5), int64(2)\n",
      "memory usage: 402.3 KB\n"
     ]
    }
   ],
   "source": [
    "data.info()"
   ]
  },
  {
   "cell_type": "code",
   "execution_count": 56,
   "id": "b5554609",
   "metadata": {},
   "outputs": [
    {
     "data": {
      "text/html": [
       "<div>\n",
       "<style scoped>\n",
       "    .dataframe tbody tr th:only-of-type {\n",
       "        vertical-align: middle;\n",
       "    }\n",
       "\n",
       "    .dataframe tbody tr th {\n",
       "        vertical-align: top;\n",
       "    }\n",
       "\n",
       "    .dataframe thead th {\n",
       "        text-align: right;\n",
       "    }\n",
       "</style>\n",
       "<table border=\"1\" class=\"dataframe\">\n",
       "  <thead>\n",
       "    <tr style=\"text-align: right;\">\n",
       "      <th></th>\n",
       "      <th>Store</th>\n",
       "      <th>Date</th>\n",
       "      <th>Weekly_Sales</th>\n",
       "      <th>Holiday_Flag</th>\n",
       "      <th>Temperature</th>\n",
       "      <th>Fuel_Price</th>\n",
       "      <th>CPI</th>\n",
       "      <th>Unemployment</th>\n",
       "    </tr>\n",
       "  </thead>\n",
       "  <tbody>\n",
       "    <tr>\n",
       "      <th>0</th>\n",
       "      <td>1</td>\n",
       "      <td>2010-02-05</td>\n",
       "      <td>1643690.90</td>\n",
       "      <td>0</td>\n",
       "      <td>42.31</td>\n",
       "      <td>2.572</td>\n",
       "      <td>211.096358</td>\n",
       "      <td>8.106</td>\n",
       "    </tr>\n",
       "    <tr>\n",
       "      <th>1</th>\n",
       "      <td>1</td>\n",
       "      <td>2010-02-12</td>\n",
       "      <td>1641957.44</td>\n",
       "      <td>1</td>\n",
       "      <td>38.51</td>\n",
       "      <td>2.548</td>\n",
       "      <td>211.242170</td>\n",
       "      <td>8.106</td>\n",
       "    </tr>\n",
       "    <tr>\n",
       "      <th>2</th>\n",
       "      <td>1</td>\n",
       "      <td>2010-02-19</td>\n",
       "      <td>1611968.17</td>\n",
       "      <td>0</td>\n",
       "      <td>39.93</td>\n",
       "      <td>2.514</td>\n",
       "      <td>211.289143</td>\n",
       "      <td>8.106</td>\n",
       "    </tr>\n",
       "    <tr>\n",
       "      <th>3</th>\n",
       "      <td>1</td>\n",
       "      <td>2010-02-26</td>\n",
       "      <td>1409727.59</td>\n",
       "      <td>0</td>\n",
       "      <td>46.63</td>\n",
       "      <td>2.561</td>\n",
       "      <td>211.319643</td>\n",
       "      <td>8.106</td>\n",
       "    </tr>\n",
       "    <tr>\n",
       "      <th>4</th>\n",
       "      <td>1</td>\n",
       "      <td>2010-03-05</td>\n",
       "      <td>1554806.68</td>\n",
       "      <td>0</td>\n",
       "      <td>46.50</td>\n",
       "      <td>2.625</td>\n",
       "      <td>211.350143</td>\n",
       "      <td>8.106</td>\n",
       "    </tr>\n",
       "  </tbody>\n",
       "</table>\n",
       "</div>"
      ],
      "text/plain": [
       "   Store       Date  Weekly_Sales  Holiday_Flag  Temperature  Fuel_Price  \\\n",
       "0      1 2010-02-05    1643690.90             0        42.31       2.572   \n",
       "1      1 2010-02-12    1641957.44             1        38.51       2.548   \n",
       "2      1 2010-02-19    1611968.17             0        39.93       2.514   \n",
       "3      1 2010-02-26    1409727.59             0        46.63       2.561   \n",
       "4      1 2010-03-05    1554806.68             0        46.50       2.625   \n",
       "\n",
       "          CPI  Unemployment  \n",
       "0  211.096358         8.106  \n",
       "1  211.242170         8.106  \n",
       "2  211.289143         8.106  \n",
       "3  211.319643         8.106  \n",
       "4  211.350143         8.106  "
      ]
     },
     "execution_count": 56,
     "metadata": {},
     "output_type": "execute_result"
    }
   ],
   "source": [
    "data.head(5)"
   ]
  },
  {
   "cell_type": "code",
   "execution_count": 57,
   "id": "67a0b4f1",
   "metadata": {},
   "outputs": [],
   "source": [
    "data['Year']=data['Date'].dt.year"
   ]
  },
  {
   "cell_type": "code",
   "execution_count": 58,
   "id": "6ba02751",
   "metadata": {},
   "outputs": [],
   "source": [
    "data['Month']=data['Date'].dt.month"
   ]
  },
  {
   "cell_type": "code",
   "execution_count": 59,
   "id": "b7ffb063",
   "metadata": {},
   "outputs": [],
   "source": [
    "data['Day']=data['Date'].dt.day"
   ]
  },
  {
   "cell_type": "code",
   "execution_count": 60,
   "id": "7fb93ffd",
   "metadata": {
    "scrolled": true
   },
   "outputs": [
    {
     "data": {
      "text/html": [
       "<div>\n",
       "<style scoped>\n",
       "    .dataframe tbody tr th:only-of-type {\n",
       "        vertical-align: middle;\n",
       "    }\n",
       "\n",
       "    .dataframe tbody tr th {\n",
       "        vertical-align: top;\n",
       "    }\n",
       "\n",
       "    .dataframe thead th {\n",
       "        text-align: right;\n",
       "    }\n",
       "</style>\n",
       "<table border=\"1\" class=\"dataframe\">\n",
       "  <thead>\n",
       "    <tr style=\"text-align: right;\">\n",
       "      <th></th>\n",
       "      <th>Store</th>\n",
       "      <th>Date</th>\n",
       "      <th>Weekly_Sales</th>\n",
       "      <th>Holiday_Flag</th>\n",
       "      <th>Temperature</th>\n",
       "      <th>Fuel_Price</th>\n",
       "      <th>CPI</th>\n",
       "      <th>Unemployment</th>\n",
       "      <th>Year</th>\n",
       "      <th>Month</th>\n",
       "      <th>Day</th>\n",
       "    </tr>\n",
       "  </thead>\n",
       "  <tbody>\n",
       "    <tr>\n",
       "      <th>0</th>\n",
       "      <td>1</td>\n",
       "      <td>2010-02-05</td>\n",
       "      <td>1643690.90</td>\n",
       "      <td>0</td>\n",
       "      <td>42.31</td>\n",
       "      <td>2.572</td>\n",
       "      <td>211.096358</td>\n",
       "      <td>8.106</td>\n",
       "      <td>2010</td>\n",
       "      <td>2</td>\n",
       "      <td>5</td>\n",
       "    </tr>\n",
       "    <tr>\n",
       "      <th>1</th>\n",
       "      <td>1</td>\n",
       "      <td>2010-02-12</td>\n",
       "      <td>1641957.44</td>\n",
       "      <td>1</td>\n",
       "      <td>38.51</td>\n",
       "      <td>2.548</td>\n",
       "      <td>211.242170</td>\n",
       "      <td>8.106</td>\n",
       "      <td>2010</td>\n",
       "      <td>2</td>\n",
       "      <td>12</td>\n",
       "    </tr>\n",
       "    <tr>\n",
       "      <th>2</th>\n",
       "      <td>1</td>\n",
       "      <td>2010-02-19</td>\n",
       "      <td>1611968.17</td>\n",
       "      <td>0</td>\n",
       "      <td>39.93</td>\n",
       "      <td>2.514</td>\n",
       "      <td>211.289143</td>\n",
       "      <td>8.106</td>\n",
       "      <td>2010</td>\n",
       "      <td>2</td>\n",
       "      <td>19</td>\n",
       "    </tr>\n",
       "    <tr>\n",
       "      <th>3</th>\n",
       "      <td>1</td>\n",
       "      <td>2010-02-26</td>\n",
       "      <td>1409727.59</td>\n",
       "      <td>0</td>\n",
       "      <td>46.63</td>\n",
       "      <td>2.561</td>\n",
       "      <td>211.319643</td>\n",
       "      <td>8.106</td>\n",
       "      <td>2010</td>\n",
       "      <td>2</td>\n",
       "      <td>26</td>\n",
       "    </tr>\n",
       "    <tr>\n",
       "      <th>4</th>\n",
       "      <td>1</td>\n",
       "      <td>2010-03-05</td>\n",
       "      <td>1554806.68</td>\n",
       "      <td>0</td>\n",
       "      <td>46.50</td>\n",
       "      <td>2.625</td>\n",
       "      <td>211.350143</td>\n",
       "      <td>8.106</td>\n",
       "      <td>2010</td>\n",
       "      <td>3</td>\n",
       "      <td>5</td>\n",
       "    </tr>\n",
       "  </tbody>\n",
       "</table>\n",
       "</div>"
      ],
      "text/plain": [
       "   Store       Date  Weekly_Sales  Holiday_Flag  Temperature  Fuel_Price  \\\n",
       "0      1 2010-02-05    1643690.90             0        42.31       2.572   \n",
       "1      1 2010-02-12    1641957.44             1        38.51       2.548   \n",
       "2      1 2010-02-19    1611968.17             0        39.93       2.514   \n",
       "3      1 2010-02-26    1409727.59             0        46.63       2.561   \n",
       "4      1 2010-03-05    1554806.68             0        46.50       2.625   \n",
       "\n",
       "          CPI  Unemployment  Year  Month  Day  \n",
       "0  211.096358         8.106  2010      2    5  \n",
       "1  211.242170         8.106  2010      2   12  \n",
       "2  211.289143         8.106  2010      2   19  \n",
       "3  211.319643         8.106  2010      2   26  \n",
       "4  211.350143         8.106  2010      3    5  "
      ]
     },
     "execution_count": 60,
     "metadata": {},
     "output_type": "execute_result"
    }
   ],
   "source": [
    "data.head(5)"
   ]
  },
  {
   "cell_type": "markdown",
   "id": "6ebeab27",
   "metadata": {},
   "source": [
    "# Explore Weekly Sales Column"
   ]
  },
  {
   "cell_type": "code",
   "execution_count": 66,
   "id": "78b80326",
   "metadata": {
    "scrolled": true
   },
   "outputs": [
    {
     "data": {
      "image/png": "[encoded data removed]",
      "text/plain": [
       "<Figure size 720x504 with 1 Axes>"
      ]
     },
     "metadata": {
      "needs_background": "light"
     },
     "output_type": "display_data"
    }
   ],
   "source": [
    "plt.figure(figsize =(10, 7))\n",
    "plt.boxplot(data['Weekly_Sales'])\n",
    "plt.title('Weekly_Sales Box Plot')\n",
    "plt.ylabel('Weekly_Sales',size=12)\n",
    "plt.show()"
   ]
  },
  {
   "cell_type": "code",
   "execution_count": 71,
   "id": "fbe5ea65",
   "metadata": {},
   "outputs": [
    {
     "name": "stdout",
     "output_type": "stream",
     "text": [
      "Max:  3818686.45\n",
      "Min:  209986.25\n",
      "IQR:  866808.5549999999\n",
      "Upper Bound:  2720371.4924999997\n",
      "Lower Bound:  -746862.7275\n"
     ]
    }
   ],
   "source": [
    "# finding the 1st quartile\n",
    "q1 = np.quantile(data['Weekly_Sales'], 0.25)\n",
    "\n",
    "# finding the 3rd quartile\n",
    "q3 = np.quantile(data['Weekly_Sales'], 0.75)\n",
    "med = np.median(data['Weekly_Sales'])\n",
    "max_sales=np.max(data['Weekly_Sales'])\n",
    "min_sales=np.min(data['Weekly_Sales'])\n",
    "# finding the iqr region\n",
    "iqr = q3-q1\n",
    "\n",
    "# finding upper and lower whiskers\n",
    "upper_bound = q3+(1.5*iqr)\n",
    "lower_bound = q1-(1.5*iqr)\n",
    "\n",
    "print('Max: ',max_sales)\n",
    "print('Min: ',min_sales)\n",
    "print('IQR: ',iqr)\n",
    "print('Upper Bound: ',upper_bound)\n",
    "print('Lower Bound: ', lower_bound)\n"
   ]
  },
  {
   "cell_type": "code",
   "execution_count": 73,
   "id": "1d035b04",
   "metadata": {},
   "outputs": [],
   "source": [
    "outliers_weekly_sales=data[(data['Weekly_Sales'] >=upper_bound) | (data['Weekly_Sales'] <=lower_bound)]"
   ]
  },
  {
   "cell_type": "code",
   "execution_count": 75,
   "id": "c1f7c759",
   "metadata": {},
   "outputs": [
    {
     "data": {
      "text/plain": [
       "(34, 11)"
      ]
     },
     "execution_count": 75,
     "metadata": {},
     "output_type": "execute_result"
    }
   ],
   "source": [
    "outliers_weekly_sales.shape"
   ]
  },
  {
   "cell_type": "markdown",
   "id": "0ee2c6df",
   "metadata": {},
   "source": [
    "# it's mean that store 2 and store 4 has a lagrge weekly sales in the last month of 2010 and 2011"
   ]
  },
  {
   "cell_type": "code",
   "execution_count": 154,
   "id": "97b3578b",
   "metadata": {
    "scrolled": false
   },
   "outputs": [
    {
     "data": {
      "text/html": [
       "<div>\n",
       "<style scoped>\n",
       "    .dataframe tbody tr th:only-of-type {\n",
       "        vertical-align: middle;\n",
       "    }\n",
       "\n",
       "    .dataframe tbody tr th {\n",
       "        vertical-align: top;\n",
       "    }\n",
       "\n",
       "    .dataframe thead th {\n",
       "        text-align: right;\n",
       "    }\n",
       "</style>\n",
       "<table border=\"1\" class=\"dataframe\">\n",
       "  <thead>\n",
       "    <tr style=\"text-align: right;\">\n",
       "      <th></th>\n",
       "      <th>Store</th>\n",
       "      <th>Date</th>\n",
       "      <th>Weekly_Sales</th>\n",
       "      <th>Holiday_Flag</th>\n",
       "      <th>Temperature</th>\n",
       "      <th>Fuel_Price</th>\n",
       "      <th>CPI</th>\n",
       "      <th>Unemployment</th>\n",
       "      <th>Year</th>\n",
       "      <th>Month</th>\n",
       "      <th>Day</th>\n",
       "    </tr>\n",
       "  </thead>\n",
       "  <tbody>\n",
       "    <tr>\n",
       "      <th>189</th>\n",
       "      <td>2</td>\n",
       "      <td>2010-12-24</td>\n",
       "      <td>3436007.68</td>\n",
       "      <td>0</td>\n",
       "      <td>49.97</td>\n",
       "      <td>2.886</td>\n",
       "      <td>211.064660</td>\n",
       "      <td>8.163</td>\n",
       "      <td>2010</td>\n",
       "      <td>12</td>\n",
       "      <td>24</td>\n",
       "    </tr>\n",
       "    <tr>\n",
       "      <th>241</th>\n",
       "      <td>2</td>\n",
       "      <td>2011-12-23</td>\n",
       "      <td>3224369.80</td>\n",
       "      <td>0</td>\n",
       "      <td>46.66</td>\n",
       "      <td>3.112</td>\n",
       "      <td>218.999550</td>\n",
       "      <td>7.441</td>\n",
       "      <td>2011</td>\n",
       "      <td>12</td>\n",
       "      <td>23</td>\n",
       "    </tr>\n",
       "    <tr>\n",
       "      <th>471</th>\n",
       "      <td>4</td>\n",
       "      <td>2010-11-26</td>\n",
       "      <td>2789469.45</td>\n",
       "      <td>1</td>\n",
       "      <td>48.08</td>\n",
       "      <td>2.752</td>\n",
       "      <td>126.669267</td>\n",
       "      <td>7.127</td>\n",
       "      <td>2010</td>\n",
       "      <td>11</td>\n",
       "      <td>26</td>\n",
       "    </tr>\n",
       "    <tr>\n",
       "      <th>474</th>\n",
       "      <td>4</td>\n",
       "      <td>2010-12-17</td>\n",
       "      <td>2740057.14</td>\n",
       "      <td>0</td>\n",
       "      <td>46.57</td>\n",
       "      <td>2.884</td>\n",
       "      <td>126.879484</td>\n",
       "      <td>7.127</td>\n",
       "      <td>2010</td>\n",
       "      <td>12</td>\n",
       "      <td>17</td>\n",
       "    </tr>\n",
       "    <tr>\n",
       "      <th>475</th>\n",
       "      <td>4</td>\n",
       "      <td>2010-12-24</td>\n",
       "      <td>3526713.39</td>\n",
       "      <td>0</td>\n",
       "      <td>43.21</td>\n",
       "      <td>2.887</td>\n",
       "      <td>126.983581</td>\n",
       "      <td>7.127</td>\n",
       "      <td>2010</td>\n",
       "      <td>12</td>\n",
       "      <td>24</td>\n",
       "    </tr>\n",
       "  </tbody>\n",
       "</table>\n",
       "</div>"
      ],
      "text/plain": [
       "     Store       Date  Weekly_Sales  Holiday_Flag  Temperature  Fuel_Price  \\\n",
       "189      2 2010-12-24    3436007.68             0        49.97       2.886   \n",
       "241      2 2011-12-23    3224369.80             0        46.66       3.112   \n",
       "471      4 2010-11-26    2789469.45             1        48.08       2.752   \n",
       "474      4 2010-12-17    2740057.14             0        46.57       2.884   \n",
       "475      4 2010-12-24    3526713.39             0        43.21       2.887   \n",
       "\n",
       "            CPI  Unemployment  Year  Month  Day  \n",
       "189  211.064660         8.163  2010     12   24  \n",
       "241  218.999550         7.441  2011     12   23  \n",
       "471  126.669267         7.127  2010     11   26  \n",
       "474  126.879484         7.127  2010     12   17  \n",
       "475  126.983581         7.127  2010     12   24  "
      ]
     },
     "execution_count": 154,
     "metadata": {},
     "output_type": "execute_result"
    }
   ],
   "source": [
    "outliers_weekly_sales.head()"
   ]
  },
  {
   "cell_type": "markdown",
   "id": "13eb55c6",
   "metadata": {},
   "source": [
    "# Explore Holiday_Flag Column and make sure that has corect values "
   ]
  },
  {
   "cell_type": "code",
   "execution_count": 79,
   "id": "55283ee1",
   "metadata": {},
   "outputs": [],
   "source": [
    "holidays_list=['2010-02-12','2011-02-11','2012-02-10'\n",
    "              ,'2010-09-10','2011-09-09','2012-09-07'\n",
    "              ,'2010-11-26','2011-11-25','2012-11-23'\n",
    "              ,'2010-12-31','2011-12-30','2012-12-28']"
   ]
  },
  {
   "cell_type": "code",
   "execution_count": 81,
   "id": "50e49bfe",
   "metadata": {},
   "outputs": [],
   "source": [
    "wrong_flags=data[(data['Date'].isin(holidays_list )) & (data['Holiday_Flag']==0)]"
   ]
  },
  {
   "cell_type": "markdown",
   "id": "524f5209",
   "metadata": {},
   "source": [
    "# So Holiday Flag Column has the right values"
   ]
  },
  {
   "cell_type": "code",
   "execution_count": 82,
   "id": "147fd5a0",
   "metadata": {
    "scrolled": true
   },
   "outputs": [
    {
     "data": {
      "text/html": [
       "<div>\n",
       "<style scoped>\n",
       "    .dataframe tbody tr th:only-of-type {\n",
       "        vertical-align: middle;\n",
       "    }\n",
       "\n",
       "    .dataframe tbody tr th {\n",
       "        vertical-align: top;\n",
       "    }\n",
       "\n",
       "    .dataframe thead th {\n",
       "        text-align: right;\n",
       "    }\n",
       "</style>\n",
       "<table border=\"1\" class=\"dataframe\">\n",
       "  <thead>\n",
       "    <tr style=\"text-align: right;\">\n",
       "      <th></th>\n",
       "      <th>Store</th>\n",
       "      <th>Date</th>\n",
       "      <th>Weekly_Sales</th>\n",
       "      <th>Holiday_Flag</th>\n",
       "      <th>Temperature</th>\n",
       "      <th>Fuel_Price</th>\n",
       "      <th>CPI</th>\n",
       "      <th>Unemployment</th>\n",
       "      <th>Year</th>\n",
       "      <th>Month</th>\n",
       "      <th>Day</th>\n",
       "    </tr>\n",
       "  </thead>\n",
       "  <tbody>\n",
       "  </tbody>\n",
       "</table>\n",
       "</div>"
      ],
      "text/plain": [
       "Empty DataFrame\n",
       "Columns: [Store, Date, Weekly_Sales, Holiday_Flag, Temperature, Fuel_Price, CPI, Unemployment, Year, Month, Day]\n",
       "Index: []"
      ]
     },
     "execution_count": 82,
     "metadata": {},
     "output_type": "execute_result"
    }
   ],
   "source": [
    "wrong_flags"
   ]
  },
  {
   "cell_type": "markdown",
   "id": "4fcaf64e",
   "metadata": {},
   "source": [
    "# Explore Temprature column"
   ]
  },
  {
   "cell_type": "code",
   "execution_count": 85,
   "id": "43600290",
   "metadata": {},
   "outputs": [
    {
     "data": {
      "image/png": "[encoded data removed]",
      "text/plain": [
       "<Figure size 720x504 with 1 Axes>"
      ]
     },
     "metadata": {
      "needs_background": "light"
     },
     "output_type": "display_data"
    }
   ],
   "source": [
    "plt.figure(figsize =(10, 7))\n",
    "plt.boxplot(data['Temperature'])\n",
    "plt.title('Temperature Box Plot')\n",
    "plt.ylabel('Temperature',size=12)\n",
    "plt.show()"
   ]
  },
  {
   "cell_type": "code",
   "execution_count": 86,
   "id": "63e238b6",
   "metadata": {},
   "outputs": [
    {
     "name": "stdout",
     "output_type": "stream",
     "text": [
      "Max:  100.14\n",
      "Min:  -2.06\n",
      "IQR:  27.479999999999997\n",
      "Upper Bound:  116.16\n",
      "Lower Bound:  6.240000000000002\n"
     ]
    }
   ],
   "source": [
    "# finding the 1st quartile\n",
    "q1 = np.quantile(data['Temperature'], 0.25)\n",
    "\n",
    "# finding the 3rd quartile\n",
    "q3 = np.quantile(data['Temperature'], 0.75)\n",
    "med = np.median(data['Temperature'])\n",
    "max_sales=np.max(data['Temperature'])\n",
    "min_sales=np.min(data['Temperature'])\n",
    "# finding the iqr region\n",
    "iqr = q3-q1\n",
    "\n",
    "# finding upper and lower whiskers\n",
    "upper_bound = q3+(1.5*iqr)\n",
    "lower_bound = q1-(1.5*iqr)\n",
    "\n",
    "print('Max: ',max_sales)\n",
    "print('Min: ',min_sales)\n",
    "print('IQR: ',iqr)\n",
    "print('Upper Bound: ',upper_bound)\n",
    "print('Lower Bound: ', lower_bound)"
   ]
  },
  {
   "cell_type": "code",
   "execution_count": 87,
   "id": "9c669418",
   "metadata": {},
   "outputs": [],
   "source": [
    "outliers_Temperature=data[(data['Temperature'] >=upper_bound) | (data['Temperature'] <=lower_bound)]"
   ]
  },
  {
   "cell_type": "code",
   "execution_count": 88,
   "id": "7cede908",
   "metadata": {
    "scrolled": true
   },
   "outputs": [
    {
     "data": {
      "text/html": [
       "<div>\n",
       "<style scoped>\n",
       "    .dataframe tbody tr th:only-of-type {\n",
       "        vertical-align: middle;\n",
       "    }\n",
       "\n",
       "    .dataframe tbody tr th {\n",
       "        vertical-align: top;\n",
       "    }\n",
       "\n",
       "    .dataframe thead th {\n",
       "        text-align: right;\n",
       "    }\n",
       "</style>\n",
       "<table border=\"1\" class=\"dataframe\">\n",
       "  <thead>\n",
       "    <tr style=\"text-align: right;\">\n",
       "      <th></th>\n",
       "      <th>Store</th>\n",
       "      <th>Date</th>\n",
       "      <th>Weekly_Sales</th>\n",
       "      <th>Holiday_Flag</th>\n",
       "      <th>Temperature</th>\n",
       "      <th>Fuel_Price</th>\n",
       "      <th>CPI</th>\n",
       "      <th>Unemployment</th>\n",
       "      <th>Year</th>\n",
       "      <th>Month</th>\n",
       "      <th>Day</th>\n",
       "    </tr>\n",
       "  </thead>\n",
       "  <tbody>\n",
       "    <tr>\n",
       "      <th>910</th>\n",
       "      <td>7</td>\n",
       "      <td>2011-02-04</td>\n",
       "      <td>558027.77</td>\n",
       "      <td>0</td>\n",
       "      <td>-2.06</td>\n",
       "      <td>3.011</td>\n",
       "      <td>191.762589</td>\n",
       "      <td>8.818</td>\n",
       "      <td>2011</td>\n",
       "      <td>2</td>\n",
       "      <td>4</td>\n",
       "    </tr>\n",
       "    <tr>\n",
       "      <th>2336</th>\n",
       "      <td>17</td>\n",
       "      <td>2011-01-07</td>\n",
       "      <td>1083071.14</td>\n",
       "      <td>0</td>\n",
       "      <td>6.23</td>\n",
       "      <td>2.891</td>\n",
       "      <td>127.191774</td>\n",
       "      <td>6.866</td>\n",
       "      <td>2011</td>\n",
       "      <td>1</td>\n",
       "      <td>7</td>\n",
       "    </tr>\n",
       "    <tr>\n",
       "      <th>3626</th>\n",
       "      <td>26</td>\n",
       "      <td>2011-01-28</td>\n",
       "      <td>817485.14</td>\n",
       "      <td>0</td>\n",
       "      <td>5.54</td>\n",
       "      <td>3.243</td>\n",
       "      <td>133.105968</td>\n",
       "      <td>7.907</td>\n",
       "      <td>2011</td>\n",
       "      <td>1</td>\n",
       "      <td>28</td>\n",
       "    </tr>\n",
       "  </tbody>\n",
       "</table>\n",
       "</div>"
      ],
      "text/plain": [
       "      Store       Date  Weekly_Sales  Holiday_Flag  Temperature  Fuel_Price  \\\n",
       "910       7 2011-02-04     558027.77             0        -2.06       3.011   \n",
       "2336     17 2011-01-07    1083071.14             0         6.23       2.891   \n",
       "3626     26 2011-01-28     817485.14             0         5.54       3.243   \n",
       "\n",
       "             CPI  Unemployment  Year  Month  Day  \n",
       "910   191.762589         8.818  2011      2    4  \n",
       "2336  127.191774         6.866  2011      1    7  \n",
       "3626  133.105968         7.907  2011      1   28  "
      ]
     },
     "execution_count": 88,
     "metadata": {},
     "output_type": "execute_result"
    }
   ],
   "source": [
    "outliers_Temperature"
   ]
  },
  {
   "cell_type": "markdown",
   "id": "b0e460a1",
   "metadata": {},
   "source": [
    "# Explore Fuel Price Column"
   ]
  },
  {
   "cell_type": "code",
   "execution_count": 90,
   "id": "b577cc33",
   "metadata": {},
   "outputs": [
    {
     "data": {
      "image/png": "[encoded data removed]",
      "text/plain": [
       "<Figure size 720x504 with 1 Axes>"
      ]
     },
     "metadata": {
      "needs_background": "light"
     },
     "output_type": "display_data"
    }
   ],
   "source": [
    "plt.figure(figsize =(10, 7))\n",
    "plt.boxplot(data['Fuel_Price'])\n",
    "plt.title('Fuel_Price Box Plot')\n",
    "plt.ylabel('Fuel_Price',size=12)\n",
    "plt.show()"
   ]
  },
  {
   "cell_type": "markdown",
   "id": "b51ebc91",
   "metadata": {},
   "source": [
    "# Explore Consumer Per Index Rate"
   ]
  },
  {
   "cell_type": "code",
   "execution_count": 92,
   "id": "6fb9f406",
   "metadata": {},
   "outputs": [
    {
     "data": {
      "image/png": "[encoded data removed]",
      "text/plain": [
       "<Figure size 720x504 with 1 Axes>"
      ]
     },
     "metadata": {
      "needs_background": "light"
     },
     "output_type": "display_data"
    }
   ],
   "source": [
    "plt.figure(figsize =(10, 7))\n",
    "plt.boxplot(data['CPI'])\n",
    "plt.title('CPI Box Plot')\n",
    "plt.ylabel('CPI',size=12)\n",
    "plt.show()"
   ]
  },
  {
   "cell_type": "markdown",
   "id": "d6d9996e",
   "metadata": {},
   "source": [
    "# Explore Unemployment Rate"
   ]
  },
  {
   "cell_type": "code",
   "execution_count": 94,
   "id": "9633f83a",
   "metadata": {
    "scrolled": true
   },
   "outputs": [
    {
     "data": {
      "image/png": "[encoded data removed]",
      "text/plain": [
       "<Figure size 720x504 with 1 Axes>"
      ]
     },
     "metadata": {
      "needs_background": "light"
     },
     "output_type": "display_data"
    }
   ],
   "source": [
    "plt.figure(figsize =(10, 7))\n",
    "plt.boxplot(data['Unemployment'])\n",
    "plt.title('Unemployment Box Plot')\n",
    "plt.ylabel('Unemployment',size=12)\n",
    "plt.show()"
   ]
  },
  {
   "cell_type": "code",
   "execution_count": 95,
   "id": "e5227b4d",
   "metadata": {
    "scrolled": true
   },
   "outputs": [
    {
     "name": "stdout",
     "output_type": "stream",
     "text": [
      "Max:  14.313\n",
      "Min:  3.879\n",
      "IQR:  1.7309999999999999\n",
      "Upper Bound:  11.218499999999999\n",
      "Lower Bound:  4.2945\n"
     ]
    }
   ],
   "source": [
    "# finding the 1st quartile\n",
    "q1 = np.quantile(data['Unemployment'], 0.25)\n",
    "\n",
    "# finding the 3rd quartile\n",
    "q3 = np.quantile(data['Unemployment'], 0.75)\n",
    "med = np.median(data['Unemployment'])\n",
    "max_sales=np.max(data['Unemployment'])\n",
    "min_sales=np.min(data['Unemployment'])\n",
    "# finding the iqr region\n",
    "iqr = q3-q1\n",
    "\n",
    "# finding upper and lower whiskers\n",
    "upper_bound = q3+(1.5*iqr)\n",
    "lower_bound = q1-(1.5*iqr)\n",
    "\n",
    "print('Max: ',max_sales)\n",
    "print('Min: ',min_sales)\n",
    "print('IQR: ',iqr)\n",
    "print('Upper Bound: ',upper_bound)\n",
    "print('Lower Bound: ', lower_bound)"
   ]
  },
  {
   "cell_type": "code",
   "execution_count": 96,
   "id": "0ba5859a",
   "metadata": {},
   "outputs": [],
   "source": [
    "outliers_Unemployment=data[(data['Unemployment'] >=upper_bound) | (data['Unemployment'] <=lower_bound)]"
   ]
  },
  {
   "cell_type": "code",
   "execution_count": 97,
   "id": "70f8b405",
   "metadata": {
    "scrolled": true
   },
   "outputs": [
    {
     "data": {
      "text/html": [
       "<div>\n",
       "<style scoped>\n",
       "    .dataframe tbody tr th:only-of-type {\n",
       "        vertical-align: middle;\n",
       "    }\n",
       "\n",
       "    .dataframe tbody tr th {\n",
       "        vertical-align: top;\n",
       "    }\n",
       "\n",
       "    .dataframe thead th {\n",
       "        text-align: right;\n",
       "    }\n",
       "</style>\n",
       "<table border=\"1\" class=\"dataframe\">\n",
       "  <thead>\n",
       "    <tr style=\"text-align: right;\">\n",
       "      <th></th>\n",
       "      <th>Store</th>\n",
       "      <th>Date</th>\n",
       "      <th>Weekly_Sales</th>\n",
       "      <th>Holiday_Flag</th>\n",
       "      <th>Temperature</th>\n",
       "      <th>Fuel_Price</th>\n",
       "      <th>CPI</th>\n",
       "      <th>Unemployment</th>\n",
       "      <th>Year</th>\n",
       "      <th>Month</th>\n",
       "      <th>Day</th>\n",
       "    </tr>\n",
       "  </thead>\n",
       "  <tbody>\n",
       "    <tr>\n",
       "      <th>555</th>\n",
       "      <td>4</td>\n",
       "      <td>2012-07-06</td>\n",
       "      <td>2224499.28</td>\n",
       "      <td>0</td>\n",
       "      <td>80.37</td>\n",
       "      <td>3.187</td>\n",
       "      <td>130.719633</td>\n",
       "      <td>4.077</td>\n",
       "      <td>2012</td>\n",
       "      <td>7</td>\n",
       "      <td>6</td>\n",
       "    </tr>\n",
       "    <tr>\n",
       "      <th>556</th>\n",
       "      <td>4</td>\n",
       "      <td>2012-07-13</td>\n",
       "      <td>2100252.61</td>\n",
       "      <td>0</td>\n",
       "      <td>76.86</td>\n",
       "      <td>3.224</td>\n",
       "      <td>130.683000</td>\n",
       "      <td>4.077</td>\n",
       "      <td>2012</td>\n",
       "      <td>7</td>\n",
       "      <td>13</td>\n",
       "    </tr>\n",
       "    <tr>\n",
       "      <th>557</th>\n",
       "      <td>4</td>\n",
       "      <td>2012-07-20</td>\n",
       "      <td>2175563.69</td>\n",
       "      <td>0</td>\n",
       "      <td>79.14</td>\n",
       "      <td>3.263</td>\n",
       "      <td>130.701290</td>\n",
       "      <td>4.077</td>\n",
       "      <td>2012</td>\n",
       "      <td>7</td>\n",
       "      <td>20</td>\n",
       "    </tr>\n",
       "    <tr>\n",
       "      <th>558</th>\n",
       "      <td>4</td>\n",
       "      <td>2012-07-27</td>\n",
       "      <td>2048613.65</td>\n",
       "      <td>0</td>\n",
       "      <td>81.06</td>\n",
       "      <td>3.356</td>\n",
       "      <td>130.719581</td>\n",
       "      <td>4.077</td>\n",
       "      <td>2012</td>\n",
       "      <td>7</td>\n",
       "      <td>27</td>\n",
       "    </tr>\n",
       "    <tr>\n",
       "      <th>559</th>\n",
       "      <td>4</td>\n",
       "      <td>2012-08-03</td>\n",
       "      <td>2174514.13</td>\n",
       "      <td>0</td>\n",
       "      <td>83.86</td>\n",
       "      <td>3.374</td>\n",
       "      <td>130.737871</td>\n",
       "      <td>4.077</td>\n",
       "      <td>2012</td>\n",
       "      <td>8</td>\n",
       "      <td>3</td>\n",
       "    </tr>\n",
       "    <tr>\n",
       "      <th>...</th>\n",
       "      <td>...</td>\n",
       "      <td>...</td>\n",
       "      <td>...</td>\n",
       "      <td>...</td>\n",
       "      <td>...</td>\n",
       "      <td>...</td>\n",
       "      <td>...</td>\n",
       "      <td>...</td>\n",
       "      <td>...</td>\n",
       "      <td>...</td>\n",
       "      <td>...</td>\n",
       "    </tr>\n",
       "    <tr>\n",
       "      <th>5715</th>\n",
       "      <td>40</td>\n",
       "      <td>2012-09-28</td>\n",
       "      <td>919595.44</td>\n",
       "      <td>0</td>\n",
       "      <td>50.98</td>\n",
       "      <td>4.018</td>\n",
       "      <td>138.739500</td>\n",
       "      <td>4.156</td>\n",
       "      <td>2012</td>\n",
       "      <td>9</td>\n",
       "      <td>28</td>\n",
       "    </tr>\n",
       "    <tr>\n",
       "      <th>5716</th>\n",
       "      <td>40</td>\n",
       "      <td>2012-10-05</td>\n",
       "      <td>1069112.00</td>\n",
       "      <td>0</td>\n",
       "      <td>57.21</td>\n",
       "      <td>4.027</td>\n",
       "      <td>138.825600</td>\n",
       "      <td>4.145</td>\n",
       "      <td>2012</td>\n",
       "      <td>10</td>\n",
       "      <td>5</td>\n",
       "    </tr>\n",
       "    <tr>\n",
       "      <th>5717</th>\n",
       "      <td>40</td>\n",
       "      <td>2012-10-12</td>\n",
       "      <td>982523.26</td>\n",
       "      <td>0</td>\n",
       "      <td>47.35</td>\n",
       "      <td>4.029</td>\n",
       "      <td>138.911700</td>\n",
       "      <td>4.145</td>\n",
       "      <td>2012</td>\n",
       "      <td>10</td>\n",
       "      <td>12</td>\n",
       "    </tr>\n",
       "    <tr>\n",
       "      <th>5718</th>\n",
       "      <td>40</td>\n",
       "      <td>2012-10-19</td>\n",
       "      <td>918170.50</td>\n",
       "      <td>0</td>\n",
       "      <td>46.33</td>\n",
       "      <td>4.000</td>\n",
       "      <td>138.833613</td>\n",
       "      <td>4.145</td>\n",
       "      <td>2012</td>\n",
       "      <td>10</td>\n",
       "      <td>19</td>\n",
       "    </tr>\n",
       "    <tr>\n",
       "      <th>5719</th>\n",
       "      <td>40</td>\n",
       "      <td>2012-10-26</td>\n",
       "      <td>921264.52</td>\n",
       "      <td>0</td>\n",
       "      <td>49.65</td>\n",
       "      <td>3.917</td>\n",
       "      <td>138.728161</td>\n",
       "      <td>4.145</td>\n",
       "      <td>2012</td>\n",
       "      <td>10</td>\n",
       "      <td>26</td>\n",
       "    </tr>\n",
       "  </tbody>\n",
       "</table>\n",
       "<p>481 rows × 11 columns</p>\n",
       "</div>"
      ],
      "text/plain": [
       "      Store       Date  Weekly_Sales  Holiday_Flag  Temperature  Fuel_Price  \\\n",
       "555       4 2012-07-06    2224499.28             0        80.37       3.187   \n",
       "556       4 2012-07-13    2100252.61             0        76.86       3.224   \n",
       "557       4 2012-07-20    2175563.69             0        79.14       3.263   \n",
       "558       4 2012-07-27    2048613.65             0        81.06       3.356   \n",
       "559       4 2012-08-03    2174514.13             0        83.86       3.374   \n",
       "...     ...        ...           ...           ...          ...         ...   \n",
       "5715     40 2012-09-28     919595.44             0        50.98       4.018   \n",
       "5716     40 2012-10-05    1069112.00             0        57.21       4.027   \n",
       "5717     40 2012-10-12     982523.26             0        47.35       4.029   \n",
       "5718     40 2012-10-19     918170.50             0        46.33       4.000   \n",
       "5719     40 2012-10-26     921264.52             0        49.65       3.917   \n",
       "\n",
       "             CPI  Unemployment  Year  Month  Day  \n",
       "555   130.719633         4.077  2012      7    6  \n",
       "556   130.683000         4.077  2012      7   13  \n",
       "557   130.701290         4.077  2012      7   20  \n",
       "558   130.719581         4.077  2012      7   27  \n",
       "559   130.737871         4.077  2012      8    3  \n",
       "...          ...           ...   ...    ...  ...  \n",
       "5715  138.739500         4.156  2012      9   28  \n",
       "5716  138.825600         4.145  2012     10    5  \n",
       "5717  138.911700         4.145  2012     10   12  \n",
       "5718  138.833613         4.145  2012     10   19  \n",
       "5719  138.728161         4.145  2012     10   26  \n",
       "\n",
       "[481 rows x 11 columns]"
      ]
     },
     "execution_count": 97,
     "metadata": {},
     "output_type": "execute_result"
    }
   ],
   "source": [
    "outliers_Unemployment"
   ]
  },
  {
   "cell_type": "markdown",
   "id": "e1afaf80",
   "metadata": {},
   "source": [
    "# Find Correlations Between Numerical Columns"
   ]
  },
  {
   "cell_type": "code",
   "execution_count": 112,
   "id": "944068e9",
   "metadata": {
    "scrolled": false
   },
   "outputs": [
    {
     "data": {
      "image/png": "[encoded data removed]",
      "text/plain": [
       "<Figure size 1152x432 with 2 Axes>"
      ]
     },
     "metadata": {
      "needs_background": "light"
     },
     "output_type": "display_data"
    }
   ],
   "source": [
    "tmp= data[[\"Weekly_Sales\",'Temperature', \"Fuel_Price\", \"CPI\", \"Unemployment\",'Month','Day','Holiday_Flag']].corr()\n",
    "fig, ax = plt.subplots(figsize=(16, 6))\n",
    "sns.heatmap(data=tmp, annot=True)\n",
    "ax.set_title(\"Correlation\")\n",
    "ax.set_xticklabels((\"Weekly_Sales\",'Temperature', \"Fuel_Price\", \"CPI\", \"Unemployment\",'Month','Day','Holiday_Flag'))\n",
    "ax.set_yticklabels((\"Weekly_Sales\",'Temperature', \"Fuel_Price\", \"CPI\", \"Unemployment\",'Month','Day','Holiday_Flag'))\n",
    "plt.show()"
   ]
  },
  {
   "cell_type": "markdown",
   "id": "170f0f6d",
   "metadata": {},
   "source": [
    "# Relation Between Unemployement and Sales"
   ]
  },
  {
   "cell_type": "markdown",
   "id": "cb34fa80",
   "metadata": {},
   "source": [
    "# As unemployment increases sales decreases"
   ]
  },
  {
   "cell_type": "code",
   "execution_count": 156,
   "id": "9a154364",
   "metadata": {},
   "outputs": [
    {
     "data": {
      "image/png": "[encoded data removed]",
      "text/plain": [
       "<Figure size 720x504 with 1 Axes>"
      ]
     },
     "metadata": {
      "needs_background": "light"
     },
     "output_type": "display_data"
    }
   ],
   "source": [
    "plt.figure(figsize =(10, 7))\n",
    "sns.regplot(data=data,x=\"Unemployment\",y=\"Weekly_Sales\")\n",
    "\n",
    "plt.show()"
   ]
  },
  {
   "cell_type": "markdown",
   "id": "8e877f72",
   "metadata": {},
   "source": [
    "# Which Month has the highest Sales "
   ]
  },
  {
   "cell_type": "code",
   "execution_count": 158,
   "id": "f7bca90e",
   "metadata": {},
   "outputs": [
    {
     "data": {
      "image/png": "[encoded data removed]",
      "text/plain": [
       "<Figure size 720x504 with 1 Axes>"
      ]
     },
     "metadata": {
      "needs_background": "light"
     },
     "output_type": "display_data"
    }
   ],
   "source": [
    "year=2011\n",
    "plt.figure(figsize =(10, 7))\n",
    "filter_data=data[data['Year']==year]\n",
    "sns.barplot(data=filter_data,x=\"Month\",y=\"Weekly_Sales\")\n",
    "plt.title('Sum of Weekly Sales per every Month in {}'.format(year))\n",
    "plt.show()"
   ]
  },
  {
   "cell_type": "markdown",
   "id": "1bc08702",
   "metadata": {},
   "source": [
    "# Find the sum of weekly sales for every store per year"
   ]
  },
  {
   "cell_type": "code",
   "execution_count": 174,
   "id": "cb8a6e98",
   "metadata": {},
   "outputs": [],
   "source": [
    "def plot_sales_per_store(store_id):\n",
    "    plt.figure(figsize =(10, 7))\n",
    "    gp_data=data[data['Store']==store_id]\n",
    "    sales_per_store=gp_data.groupby(by=['Date'])[\"Weekly_Sales\"].sum().plot(kind='line')\n",
    "    plt.title('Weekly Sales Time Line For Store in {}'.format(store_id))\n",
    "    plt.ylabel('Weekly Sales')\n",
    "    plt.show()"
   ]
  },
  {
   "cell_type": "code",
   "execution_count": 178,
   "id": "82c403c3",
   "metadata": {},
   "outputs": [
    {
     "data": {
      "image/png": "[encoded data removed]",
      "text/plain": [
       "<Figure size 720x504 with 1 Axes>"
      ]
     },
     "metadata": {
      "needs_background": "light"
     },
     "output_type": "display_data"
    }
   ],
   "source": [
    "plot_sales_per_store(1)"
   ]
  },
  {
   "cell_type": "code",
   "execution_count": 161,
   "id": "2be10982",
   "metadata": {},
   "outputs": [
    {
     "data": {
      "image/png": "[encoded data removed]",
      "text/plain": [
       "<Figure size 720x504 with 1 Axes>"
      ]
     },
     "metadata": {
      "needs_background": "light"
     },
     "output_type": "display_data"
    }
   ],
   "source": [
    "year=2010\n",
    "plt.figure(figsize =(10, 7))\n",
    "gp_data=data[data['Year']==year]\n",
    "sales_per_store=gp_data.groupby(by=['Store'])[\"Weekly_Sales\"].sum().plot(kind='bar')\n",
    "plt.ylabel('Sum of Weekly Sales')\n",
    "plt.xticks(rotation=90)\n",
    "plt.title('Sum of Weekly Sales per every store in {}'.format(year))\n",
    "plt.show()\n"
   ]
  },
  {
   "cell_type": "markdown",
   "id": "9306785b",
   "metadata": {},
   "source": [
    "# Time Series Analysis"
   ]
  },
  {
   "cell_type": "markdown",
   "id": "7d945393",
   "metadata": {},
   "source": [
    "# check if Time Series is seasionality or not ?"
   ]
  },
  {
   "cell_type": "code",
   "execution_count": 179,
   "id": "ceb79b02",
   "metadata": {
    "scrolled": true
   },
   "outputs": [
    {
     "data": {
      "image/png": "[encoded data removed]",
      "text/plain": [
       "<Figure size 720x504 with 1 Axes>"
      ]
     },
     "metadata": {
      "needs_background": "light"
     },
     "output_type": "display_data"
    }
   ],
   "source": [
    "plt.figure(figsize =(10, 7))\n",
    "sns.lineplot(data=data,x='Date',y='Weekly_Sales')\n",
    "plt.show()"
   ]
  },
  {
   "cell_type": "markdown",
   "id": "acfad566",
   "metadata": {},
   "source": [
    "# Augmented Dickey-Fuller (ADF) Test:\n",
    "\n",
    "1. Null Hypothesis (H0 ): The series is not stationary : p−value>0.05\n",
    "\n",
    "2. Alternate Hypothesis (Ha ): The series is stationary : p−value≤0.05\n",
    "\n",
    "We perform these tests on our time series data and conclude that the time series is not stationary. In order to make it stationary, we need to perform Differencing(making mean constant) and Transformation(making variance constant)."
   ]
  },
  {
   "cell_type": "code",
   "execution_count": 184,
   "id": "8a32ba64",
   "metadata": {},
   "outputs": [
    {
     "name": "stdout",
     "output_type": "stream",
     "text": [
      "Column:  Store\n",
      "ADF Statistic: -0.25450095161116737\n",
      "p-value: 0.9317057290466672\n",
      "***********************************\n",
      "Column:  Date\n",
      "ADF Statistic: -0.06827016642397017\n",
      "p-value: 0.952508665224852\n",
      "***********************************\n",
      "Column:  Weekly_Sales\n",
      "ADF Statistic: -4.624149498578306\n",
      "p-value: 0.00011655869699901148\n",
      "***********************************\n",
      "Column:  Holiday_Flag\n",
      "ADF Statistic: -30.797315014346506\n",
      "p-value: 0.0\n",
      "***********************************\n",
      "Column:  Temperature\n",
      "ADF Statistic: -6.251851523887287\n",
      "p-value: 4.434314370458324e-08\n",
      "***********************************\n",
      "Column:  Fuel_Price\n",
      "ADF Statistic: -14.33654935980243\n",
      "p-value: 1.0776353170266266e-26\n",
      "***********************************\n",
      "Column:  CPI\n",
      "ADF Statistic: -4.923917220807879\n",
      "p-value: 3.1322557969043435e-05\n",
      "***********************************\n",
      "Column:  Unemployment\n",
      "ADF Statistic: -5.081704127403591\n",
      "p-value: 1.5256456400034213e-05\n",
      "***********************************\n",
      "Column:  Year\n",
      "ADF Statistic: -15.656795951500769\n",
      "p-value: 1.5717617368645437e-28\n",
      "***********************************\n",
      "Column:  Month\n",
      "ADF Statistic: -27.856855701308692\n",
      "p-value: 0.0\n",
      "***********************************\n",
      "Column:  Day\n",
      "ADF Statistic: -18.59981348738778\n",
      "p-value: 2.069724303086975e-30\n",
      "***********************************\n"
     ]
    }
   ],
   "source": [
    "from statsmodels.tsa.stattools import adfuller\n",
    "\n",
    "for i in data.columns:\n",
    "    print('Column: ',i)\n",
    "    result = adfuller(data[i], autolag='AIC')\n",
    "    print(f'ADF Statistic: {result[0]}')\n",
    "    print(f'p-value: {result[1]}')\n",
    "    print('*'*35)"
   ]
  }
 ],
 "metadata": {
  "kernelspec": {
   "display_name": "Python 3 (ipykernel)",
   "language": "python",
   "name": "python3"
  },
  "language_info": {
   "codemirror_mode": {
    "name": "ipython",
    "version": 3
   },
   "file_extension": ".py",
   "mimetype": "text/x-python",
   "name": "python",
   "nbconvert_exporter": "python",
   "pygments_lexer": "ipython3",
   "version": "3.9.12"
  }
 },
 "nbformat": 4,
 "nbformat_minor": 5
}
